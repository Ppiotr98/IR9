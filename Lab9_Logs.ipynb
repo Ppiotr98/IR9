{
 "cells": [
  {
   "cell_type": "code",
   "execution_count": 1,
   "metadata": {},
   "outputs": [],
   "source": [
    "%matplotlib inline\n",
    "import numpy as np\n",
    "import matplotlib.pyplot as plt\n",
    "import datetime"
   ]
  },
  {
   "cell_type": "markdown",
   "metadata": {},
   "source": [
    "1) Log file is loaded"
   ]
  },
  {
   "cell_type": "code",
   "execution_count": 2,
   "metadata": {},
   "outputs": [
    {
     "name": "stdout",
     "output_type": "stream",
     "text": [
      "156.15.13.173 [01/Jan/2018:11:13:49 +0100] \"GET AddProduct.html HTTP/1.0\" 200 2356\n",
      "176.247.135.49 [01/Jan/2018:11:18:07 +0100] \"GET Shop.html HTTP/1.0\" 200 7466\n",
      "176.247.135.49 [01/Jan/2018:11:19:05 +0100] \"GET AddProduct.html HTTP/1.0\" 200 2356\n"
     ]
    }
   ],
   "source": [
    "file = open(\"log.txt\", \"r\") \n",
    "lines = file.readlines()\n",
    "for l in range(3): print(lines[l][:-1])"
   ]
  },
  {
   "cell_type": "markdown",
   "metadata": {},
   "source": [
    "2) Cass \"Request\" parses and keeps data of a single requests. Complete the TODO, where a given \"line\" (string) should be parsed in order to dervie the ip of the host making the request, time of the request (in seconds), and target page (name)."
   ]
  },
  {
   "cell_type": "code",
   "execution_count": 3,
   "metadata": {},
   "outputs": [],
   "source": [
    "class Request:\n",
    "    def __init__(self, line):\n",
    "        splitedLine = line.split(\" \")\n",
    "        \n",
    "        self.ip = splitedLine[0]\n",
    "        h = int(splitedLine[1].split(\":\")[1])\n",
    "        m = int(splitedLine[1].split(\":\")[2])\n",
    "        s = int(splitedLine[1].split(\":\")[3])\n",
    "        self.time = h * 3600 + m * 60 + s\n",
    "        self.page = splitedLine[4]\n",
    "        \n",
    "    def __repr__(self):\n",
    "        return self.ip + \"     \" +  str(datetime.timedelta(seconds=self.time)) + \" -> \" + self.page\n"
   ]
  },
  {
   "cell_type": "markdown",
   "metadata": {},
   "source": [
    "3) Each line of log.txt is parsed and the Request objects are added to the list"
   ]
  },
  {
   "cell_type": "code",
   "execution_count": 4,
   "metadata": {},
   "outputs": [
    {
     "name": "stdout",
     "output_type": "stream",
     "text": [
      "156.15.13.173     11:13:49 -> AddProduct.html\n",
      "176.247.135.49     11:18:07 -> Shop.html\n",
      "176.247.135.49     11:19:05 -> AddProduct.html\n",
      "176.247.135.49     11:29:05 -> Summary.html\n",
      "69.84.30.199     11:43:59 -> Shop.html\n",
      "69.84.30.199     11:45:16 -> AddProduct.html\n",
      "57.116.45.120     11:46:45 -> AddProduct.html\n",
      "69.84.30.199     11:50:36 -> Summary.html\n",
      "69.84.30.199     11:52:38 -> Payment.html\n",
      "26.19.183.202     11:53:11 -> AddProduct.html\n"
     ]
    }
   ],
   "source": [
    "reqs = [Request(line) for line in lines]\n",
    "for l in range(10): print(reqs[l]) "
   ]
  },
  {
   "cell_type": "markdown",
   "metadata": {},
   "source": [
    "# Exercise"
   ]
  },
  {
   "cell_type": "markdown",
   "metadata": {},
   "source": [
    "Your task is to analyze the log file. You should indentify the users and sessions. Then, compute the following: <br>\n",
    "3.1) the number of sessions (should be 1000 :) ), <br>\n",
    "3.2) the number of users, <br>\n",
    "3.3) the average number of sessions per one user <br>\n",
    "3.4) use the distribution plot to visualize the sessions' lengths (minutes);  <br>\n",
    "3.5) use the distribution plot to visualize the sessions' lengths (the number of requests) <br>\n",
    "3.6) use the distribution plot to visualize sessions' starting times (hours). <br>\n",
    "3.7) which web page is the most common entry point?; for each page plot the number of times it has been an entry page,  <br>\n",
    "3.8) which web page is the most common departure point?; for each page plot the number of times the user stopped a session while being on this page, <br>\n",
    "3.9) for each page plot the average time the user stayed on this page <br>\n",
    "3.10) print the fist 10 sessions (paths). <br>\n",
    "\n",
    "You may find the following classes helpful and data."
   ]
  },
  {
   "cell_type": "code",
   "execution_count": 5,
   "metadata": {},
   "outputs": [],
   "source": [
    "class Session:\n",
    "    def __init__(self):\n",
    "        self.startTime = 0\n",
    "        self.stopTime = 0\n",
    "        self.requests = []\n",
    "        \n",
    "    def __init__(self, req):\n",
    "        self.startTime = req.time\n",
    "        self.stopTime = 0\n",
    "        self.requests = [req]\n",
    "        \n",
    "    def __repr__(self):\n",
    "        print(\"SESSION\")\n",
    "        print(self.startTime)\n",
    "        print(self.stopTime)\n",
    "        STR = \"\"\n",
    "        for r in self.requests:\n",
    "            print(r)\n",
    "            STR += (\"  \" + r.page + \"    \" + str(datetime.timedelta(seconds=r.time)) + \"\\n\")\n",
    "        return STR\n",
    "\n",
    "class Computer:\n",
    "    def __init__(self):\n",
    "        self.ip = []\n",
    "        self.sessions = []\n",
    "    def __init__(self, session):\n",
    "        self.ip = session.requests[0].ip\n",
    "        self.sessions = [session]\n",
    "    def __repr__(self):\n",
    "        return self.ip\n",
    "\n",
    "PAGES = [\"Shop.html\", \"AddProduct.html\", \"Summary.html\", \"Payment.html\",\"About.html\", \"Contact.html\"]\n",
    "\n",
    "LINKS = [[1, 4],\n",
    "         [2,4],\n",
    "         [3],\n",
    "         [],\n",
    "         [1,5],\n",
    "         []]\n",
    "\n",
    "def processRequestsIntoComputersAndSessions(sessionDurationTreshold, singlePageSpentTimeTreshold):\n",
    "    computers = {}\n",
    "    for request in reqs:\n",
    "        if request.ip not in computers:\n",
    "            session = Session(request)\n",
    "            session.stopTime = request.time + singlePageSpentTimeTreshold\n",
    "            computer = Computer(session)\n",
    "            computers[request.ip] = computer\n",
    "            continue\n",
    "\n",
    "\n",
    "        computer = computers[request.ip]\n",
    "        \n",
    "        timeFromSessionStart = request.time - computer.sessions[-1].startTime\n",
    "        lastPageSpentTime = request.time - computer.sessions[-1].requests[-1].time\n",
    "        \n",
    "        isSessionDurationAcceptable = timeFromSessionStart <= sessionDurationTreshold\n",
    "        isLastPageSpentTimeAcceptable = lastPageSpentTime <= singlePageSpentTimeTreshold\n",
    "        isRequestPageInSessionPages = request.page in [req.page for req in computer.sessions[-1].requests]\n",
    "        isRequestedPageLinked = PAGES.index(request.page) in \\\n",
    "                LINKS[PAGES.index(computers[request.ip].sessions[-1].requests[-1].page)]\n",
    "        isRequestedPageAcceptable = isRequestPageInSessionPages or isRequestedPageLinked\n",
    "\n",
    "        if isSessionDurationAcceptable and isLastPageSpentTimeAcceptable and isRequestedPageAcceptable:\n",
    "            computer.sessions[-1].requests.append(request)\n",
    "            computer.sessions[-1].stopTime = min(\n",
    "                    request.time + singlePageSpentTimeTreshold, \n",
    "                    computer.sessions[-1].startTime + sessionDurationTreshold)\n",
    "            continue\n",
    "\n",
    "\n",
    "        #new session\n",
    "        session = Session(request)\n",
    "        session.stopTime = request.time + singlePageSpentTimeTreshold\n",
    "        computer.sessions.append(session)\n",
    "    return computers\n",
    "\n",
    "sessionTreshold = 2500\n",
    "pageTreshold = 800\n",
    "computers = processRequestsIntoComputersAndSessions(sessionTreshold, pageTreshold)\n",
    "\n",
    "#plot distribution\n",
    "#count, bins, ignored = plt.hist(data, 50, alpha=0.5, normed=True)\n",
    "#plt.plot()\n",
    "\n",
    "#x_axis = np.arange(len(pages))\n",
    "#plt.bar(x_axis, data, align='center', alpha=0.5)\n",
    "#plt.xticks(y_pos, pages, rotation=90)"
   ]
  },
  {
   "cell_type": "code",
   "execution_count": 6,
   "metadata": {},
   "outputs": [
    {
     "name": "stdout",
     "output_type": "stream",
     "text": [
      "1000\n"
     ]
    }
   ],
   "source": [
    "#1\n",
    "sessionsCount = sum([len(computer.sessions) for computer in computers.values()])\n",
    "print(sessionsCount)"
   ]
  },
  {
   "cell_type": "code",
   "execution_count": 7,
   "metadata": {},
   "outputs": [
    {
     "name": "stdout",
     "output_type": "stream",
     "text": [
      "391\n"
     ]
    }
   ],
   "source": [
    "#2\n",
    "usersCount = len(computers)\n",
    "print(usersCount)"
   ]
  },
  {
   "cell_type": "code",
   "execution_count": 8,
   "metadata": {},
   "outputs": [
    {
     "name": "stdout",
     "output_type": "stream",
     "text": [
      "2.557544757033248\n"
     ]
    }
   ],
   "source": [
    "#3\n",
    "avgSessionsPerUser = sessionsCount / usersCount\n",
    "print(avgSessionsPerUser)"
   ]
  },
  {
   "cell_type": "code",
   "execution_count": 9,
   "metadata": {},
   "outputs": [
    {
     "data": {
      "image/png": "[encoded data removed]",
      "text/plain": [
       "<Figure size 432x288 with 1 Axes>"
      ]
     },
     "metadata": {
      "needs_background": "light"
     },
     "output_type": "display_data"
    }
   ],
   "source": [
    "#4\n",
    "sessionsLengths = []\n",
    "for computer in computers.values():\n",
    "    for session in computer.sessions:\n",
    "        sessionsLengths.append((session.stopTime - session.startTime)/60)\n",
    "\n",
    "plt.xlabel(\"session length (minutes)\")\n",
    "plt.ylabel(\"probability\")\n",
    "count, bins, ignored = plt.hist(sessionsLengths, 50, alpha=0.5, density=True)\n",
    "plt.show()"
   ]
  },
  {
   "cell_type": "code",
   "execution_count": 10,
   "metadata": {},
   "outputs": [
    {
     "data": {
      "image/png": "[encoded data removed]",
      "text/plain": [
       "<Figure size 432x288 with 1 Axes>"
      ]
     },
     "metadata": {
      "needs_background": "light"
     },
     "output_type": "display_data"
    }
   ],
   "source": [
    "#5\n",
    "sessionsRequestsCount = []\n",
    "for computer in computers.values():\n",
    "    for session in computer.sessions:\n",
    "        sessionsRequestsCount.append(len(session.requests))\n",
    "\n",
    "plt.xlabel(\"number of requests\")\n",
    "plt.ylabel(\"probability\")\n",
    "count, bins, ignored = plt.hist(sessionsRequestsCount, len(set(sessionsRequestsCount)), alpha=0.5, density=True)\n",
    "plt.show()"
   ]
  },
  {
   "cell_type": "code",
   "execution_count": 11,
   "metadata": {},
   "outputs": [
    {
     "data": {
      "image/png": "[encoded data removed]",
      "text/plain": [
       "<Figure size 432x288 with 1 Axes>"
      ]
     },
     "metadata": {
      "needs_background": "light"
     },
     "output_type": "display_data"
    }
   ],
   "source": [
    "#6\n",
    "sessionsStartingHours = []\n",
    "for computer in computers.values():\n",
    "    for session in computer.sessions:\n",
    "        sessionsStartingHours.append(session.startTime // 3600)\n",
    "\n",
    "plt.xlabel(\"session starting time (hours)\")\n",
    "plt.ylabel(\"probability\")\n",
    "count, bins, ignored = plt.hist(sessionsStartingHours, len(set(sessionsStartingHours)), alpha=0.5, density=True)\n",
    "plt.show()"
   ]
  },
  {
   "cell_type": "code",
   "execution_count": 12,
   "metadata": {},
   "outputs": [
    {
     "data": {
      "image/png": "[encoded data removed]",
      "text/plain": [
       "<Figure size 432x288 with 1 Axes>"
      ]
     },
     "metadata": {
      "needs_background": "light"
     },
     "output_type": "display_data"
    }
   ],
   "source": [
    "#7\n",
    "entryPages = []\n",
    "for computer in computers.values():\n",
    "    for session in computer.sessions:\n",
    "        entryPages.append(session.requests[0].page)\n",
    "\n",
    "plt.xlabel(\"page\")\n",
    "plt.ylabel(\"entries\")\n",
    "count, bins, ignored = plt.hist(entryPages, len(set(entryPages)), alpha=0.5)\n",
    "plt.show()"
   ]
  },
  {
   "cell_type": "code",
   "execution_count": 27,
   "metadata": {},
   "outputs": [
    {
     "data": {
      "image/png": "[encoded data removed]",
      "text/plain": [
       "<Figure size 432x288 with 1 Axes>"
      ]
     },
     "metadata": {
      "needs_background": "light"
     },
     "output_type": "display_data"
    }
   ],
   "source": [
    "#8\n",
    "departurePages = []\n",
    "for computer in computers.values():\n",
    "    for session in computer.sessions:\n",
    "        entryPages.append(session.requests[-1].page)\n",
    "\n",
    "plt.xlabel(\"page\")\n",
    "plt.ylabel(\"times\")\n",
    "count, bins, ignored = plt.hist(entryPages, len(set(entryPages)), alpha=0.5)\n",
    "plt.show()"
   ]
  },
  {
   "cell_type": "code",
   "execution_count": 23,
   "metadata": {
    "scrolled": true
   },
   "outputs": [
    {
     "data": {
      "image/png": "[encoded data removed]",
      "text/plain": [
       "<Figure size 432x288 with 1 Axes>"
      ]
     },
     "metadata": {
      "needs_background": "light"
     },
     "output_type": "display_data"
    }
   ],
   "source": [
    "#9\n",
    "pageSpentTimes = {}\n",
    "for page in PAGES:\n",
    "    pageSpentTimes[page] = []\n",
    "    \n",
    "for computer in computers.values():\n",
    "    for session in computer.sessions:\n",
    "        lastTime = 0\n",
    "        for requestI, request in enumerate(session.requests):\n",
    "            if requestI == len(session.requests) - 1:\n",
    "                pageSpentTimes[request.page].append(pageTreshold)\n",
    "                continue\n",
    "            pageSpentTimes[request.page].append(session.requests[requestI + 1].time - request.time)\n",
    "            \n",
    "avgPageSpentTimes = {}\n",
    "for page in pageSpentTimes:\n",
    "    avgPageSpentTimes[page] = np.mean(pageSpentTimes[page])\n",
    "\n",
    "x_axis = np.arange(len(PAGES))\n",
    "plt.bar(PAGES, avgPageSpentTimes.values(), align='center', alpha=0.5)\n",
    "plt.xticks(rotation=90)\n",
    "plt.show()"
   ]
  },
  {
   "cell_type": "code",
   "execution_count": 33,
   "metadata": {},
   "outputs": [
    {
     "name": "stdout",
     "output_type": "stream",
     "text": [
      "SESSION\n",
      "40429\n",
      "41229\n",
      "156.15.13.173     11:13:49 -> AddProduct.html\n",
      "SESSION\n",
      "40687\n",
      "42145\n",
      "176.247.135.49     11:18:07 -> Shop.html\n",
      "176.247.135.49     11:19:05 -> AddProduct.html\n",
      "176.247.135.49     11:29:05 -> Summary.html\n",
      "SESSION\n",
      "42239\n",
      "43558\n",
      "69.84.30.199     11:43:59 -> Shop.html\n",
      "69.84.30.199     11:45:16 -> AddProduct.html\n",
      "69.84.30.199     11:50:36 -> Summary.html\n",
      "69.84.30.199     11:52:38 -> Payment.html\n",
      "SESSION\n",
      "42405\n",
      "43727\n",
      "57.116.45.120     11:46:45 -> AddProduct.html\n",
      "57.116.45.120     11:53:25 -> Summary.html\n",
      "57.116.45.120     11:55:27 -> Payment.html\n",
      "SESSION\n",
      "42791\n",
      "44410\n",
      "26.19.183.202     11:53:11 -> AddProduct.html\n",
      "26.19.183.202     11:59:00 -> About.html\n",
      "26.19.183.202     12:06:50 -> Contact.html\n",
      "SESSION\n",
      "43489\n",
      "44374\n",
      "76.75.209.209     12:04:49 -> Shop.html\n",
      "76.75.209.209     12:06:14 -> AddProduct.html\n",
      "SESSION\n",
      "43765\n",
      "44638\n",
      "167.139.89.69     12:09:25 -> Shop.html\n",
      "167.139.89.69     12:10:38 -> About.html\n",
      "SESSION\n",
      "43837\n",
      "45298\n",
      "30.60.2.154     12:10:37 -> Shop.html\n",
      "30.60.2.154     12:12:01 -> About.html\n",
      "30.60.2.154     12:21:38 -> Contact.html\n",
      "SESSION\n",
      "43866\n",
      "44666\n",
      "156.128.6.230     12:11:06 -> Shop.html\n",
      "SESSION\n",
      "44011\n",
      "44811\n",
      "8.253.57.224     12:13:31 -> AddProduct.html\n",
      "[  AddProduct.html    11:13:49\n",
      ",   Shop.html    11:18:07\n",
      "  AddProduct.html    11:19:05\n",
      "  Summary.html    11:29:05\n",
      ",   Shop.html    11:43:59\n",
      "  AddProduct.html    11:45:16\n",
      "  Summary.html    11:50:36\n",
      "  Payment.html    11:52:38\n",
      ",   AddProduct.html    11:46:45\n",
      "  Summary.html    11:53:25\n",
      "  Payment.html    11:55:27\n",
      ",   AddProduct.html    11:53:11\n",
      "  About.html    11:59:00\n",
      "  Contact.html    12:06:50\n",
      ",   Shop.html    12:04:49\n",
      "  AddProduct.html    12:06:14\n",
      ",   Shop.html    12:09:25\n",
      "  About.html    12:10:38\n",
      ",   Shop.html    12:10:37\n",
      "  About.html    12:12:01\n",
      "  Contact.html    12:21:38\n",
      ",   Shop.html    12:11:06\n",
      ",   AddProduct.html    12:13:31\n",
      "]\n"
     ]
    }
   ],
   "source": [
    "#10\n",
    "allSesions = []\n",
    "for computer in computers.values():\n",
    "    allSesions.extend(computer.sessions)\n",
    "allSesions.sort(key=lambda session: session.startTime)\n",
    "first10Sessions = allSesions[:10]\n",
    "print(first10Sessions)\n"
   ]
  },
  {
   "cell_type": "code",
   "execution_count": null,
   "metadata": {},
   "outputs": [],
   "source": []
  }
 ],
 "metadata": {
  "kernelspec": {
   "display_name": "Python 3",
   "language": "python",
   "name": "python3"
  },
  "language_info": {
   "codemirror_mode": {
    "name": "ipython",
    "version": 3
   },
   "file_extension": ".py",
   "mimetype": "text/x-python",
   "name": "python",
   "nbconvert_exporter": "python",
   "pygments_lexer": "ipython3",
   "version": "3.7.4"
  }
 },
 "nbformat": 4,
 "nbformat_minor": 2
}
